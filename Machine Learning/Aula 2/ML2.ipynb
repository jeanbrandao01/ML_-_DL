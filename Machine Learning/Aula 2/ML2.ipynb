{
 "cells": [
  {
   "cell_type": "code",
   "execution_count": 1,
   "metadata": {},
   "outputs": [],
   "source": [
    "import pandas as pd\n",
    "import numpy as np"
   ]
  },
  {
   "cell_type": "code",
   "execution_count": 2,
   "metadata": {},
   "outputs": [],
   "source": [
    "df = pd.read_csv('admission.csv', sep = ';')"
   ]
  },
  {
   "cell_type": "code",
   "execution_count": 3,
   "metadata": {},
   "outputs": [],
   "source": [
    "X = df.iloc[:, :-1].values # Todos os valores menos a ultima coluna\n",
    "y = df.iloc[:,-1].values # Todos os valores a partir da ultima coluna"
   ]
  },
  {
   "cell_type": "code",
   "execution_count": 4,
   "metadata": {},
   "outputs": [
    {
     "data": {
      "text/plain": [
       "array([['Lucas', 337, 118, 4, 4.5, 4.5, 9.65, 1],\n",
       "       ['Ana', 324, 107, 4, 4.0, 4.5, 8.87, 1],\n",
       "       ['Jose', 316, 104, 3, 3.0, 3.5, 8.0, 1],\n",
       "       ['Carlos', 322, 110, 3, 3.5, 2.5, 8.67, 1],\n",
       "       ['Zileide', 314, 103, 2, 2.0, 3.0, 8.21, 0],\n",
       "       ['Joana', 330, 115, 5, 4.5, 3.0, 9.34, 1],\n",
       "       ['Davi', 321, 109, 3, 3.0, 4.0, 8.2, 1],\n",
       "       ['Daniel', 308, 101, 2, 3.0, 4.0, 7.9, 0],\n",
       "       ['Marcelo', 302, 102, 1, 2.0, 1.5, 8.0, 0]], dtype=object)"
      ]
     },
     "metadata": {},
     "output_type": "display_data"
    },
    {
     "data": {
      "text/plain": [
       "array([1, 1, 1, 1, 0, 1, 1, 0, 0], dtype=int64)"
      ]
     },
     "metadata": {},
     "output_type": "display_data"
    }
   ],
   "source": [
    "display(X)\n",
    "display(y)"
   ]
  },
  {
   "cell_type": "code",
   "execution_count": 5,
   "metadata": {},
   "outputs": [],
   "source": [
    "from sklearn.impute import SimpleImputer"
   ]
  },
  {
   "cell_type": "code",
   "execution_count": 6,
   "metadata": {},
   "outputs": [],
   "source": [
    "imputer = SimpleImputer(missing_values=np.nan, strategy='median')\n",
    "imputer = imputer.fit_transform(X[:,1:])"
   ]
  },
  {
   "cell_type": "code",
   "execution_count": 7,
   "metadata": {},
   "outputs": [],
   "source": [
    "from sklearn.preprocessing import LabelEncoder"
   ]
  },
  {
   "cell_type": "code",
   "execution_count": 8,
   "metadata": {},
   "outputs": [],
   "source": [
    "lb_X = LabelEncoder()"
   ]
  },
  {
   "cell_type": "code",
   "execution_count": 9,
   "metadata": {},
   "outputs": [],
   "source": [
    "X[:,0] = lb_X.fit_transform(X[:, 0])"
   ]
  },
  {
   "cell_type": "code",
   "execution_count": 10,
   "metadata": {},
   "outputs": [
    {
     "name": "stdout",
     "output_type": "stream",
     "text": [
      "[[6 337 118 4 4.5 4.5 9.65 1]\n",
      " [0 324 107 4 4.0 4.5 8.87 1]\n",
      " [5 316 104 3 3.0 3.5 8.0 1]\n",
      " [1 322 110 3 3.5 2.5 8.67 1]\n",
      " [8 314 103 2 2.0 3.0 8.21 0]\n",
      " [4 330 115 5 4.5 3.0 9.34 1]\n",
      " [3 321 109 3 3.0 4.0 8.2 1]\n",
      " [2 308 101 2 3.0 4.0 7.9 0]\n",
      " [7 302 102 1 2.0 1.5 8.0 0]]\n"
     ]
    }
   ],
   "source": [
    "print(X)"
   ]
  },
  {
   "cell_type": "code",
   "execution_count": 11,
   "metadata": {},
   "outputs": [],
   "source": [
    "X = X[:, 1:] # A partir da coluna 2"
   ]
  },
  {
   "cell_type": "code",
   "execution_count": 12,
   "metadata": {},
   "outputs": [],
   "source": [
    "D = pd.get_dummies(X[:, 0]) # Cria variaveis binarias para valores qualitativos"
   ]
  },
  {
   "cell_type": "code",
   "execution_count": 13,
   "metadata": {},
   "outputs": [],
   "source": [
    "X = np.insert(X, 0, D.values, axis= 1) # Insere esses valores de forma colunar no index 0"
   ]
  },
  {
   "cell_type": "code",
   "execution_count": 15,
   "metadata": {},
   "outputs": [
    {
     "name": "stdout",
     "output_type": "stream",
     "text": [
      "[[False False False False False False False False True 337 118 4 4.5 4.5\n",
      "  9.65 1]\n",
      " [False False False False False False False True False 324 107 4 4.0 4.5\n",
      "  8.87 1]\n",
      " [False False False False True False False False False 316 104 3 3.0 3.5\n",
      "  8.0 1]\n",
      " [False False True False False False False False False 322 110 3 3.5 2.5\n",
      "  8.67 1]\n",
      " [False False False False False False True False False 314 103 2 2.0 3.0\n",
      "  8.21 0]\n",
      " [False False False True False False False False False 330 115 5 4.5 3.0\n",
      "  9.34 1]\n",
      " [False True False False False False False False False 321 109 3 3.0 4.0\n",
      "  8.2 1]\n",
      " [False False False False False True False False False 308 101 2 3.0 4.0\n",
      "  7.9 0]\n",
      " [True False False False False False False False False 302 102 1 2.0 1.5\n",
      "  8.0 0]]\n"
     ]
    }
   ],
   "source": [
    "print(X)"
   ]
  },
  {
   "cell_type": "code",
   "execution_count": 16,
   "metadata": {},
   "outputs": [],
   "source": [
    "from sklearn.model_selection import train_test_split"
   ]
  },
  {
   "cell_type": "code",
   "execution_count": 20,
   "metadata": {},
   "outputs": [],
   "source": [
    "X_train, X_test, y_train, y_test = train_test_split(X, y, test_size = 0.2, random_state= 45) # Divide o df em treino e teste"
   ]
  },
  {
   "cell_type": "code",
   "execution_count": 21,
   "metadata": {},
   "outputs": [
    {
     "name": "stdout",
     "output_type": "stream",
     "text": [
      "[[False False False False False False False True False 324 107 4 4.0 4.5\n",
      "  8.87 1]\n",
      " [False True False False False False False False False 321 109 3 3.0 4.0\n",
      "  8.2 1]\n",
      " [True False False False False False False False False 302 102 1 2.0 1.5\n",
      "  8.0 0]\n",
      " [False False False True False False False False False 330 115 5 4.5 3.0\n",
      "  9.34 1]\n",
      " [False False False False False False False False True 337 118 4 4.5 4.5\n",
      "  9.65 1]\n",
      " [False False False False False False True False False 314 103 2 2.0 3.0\n",
      "  8.21 0]\n",
      " [False False True False False False False False False 322 110 3 3.5 2.5\n",
      "  8.67 1]]\n"
     ]
    }
   ],
   "source": [
    "print(X_train)"
   ]
  }
 ],
 "metadata": {
  "kernelspec": {
   "display_name": "Python 3",
   "language": "python",
   "name": "python3"
  },
  "language_info": {
   "codemirror_mode": {
    "name": "ipython",
    "version": 3
   },
   "file_extension": ".py",
   "mimetype": "text/x-python",
   "name": "python",
   "nbconvert_exporter": "python",
   "pygments_lexer": "ipython3",
   "version": "3.12.0"
  }
 },
 "nbformat": 4,
 "nbformat_minor": 2
}
