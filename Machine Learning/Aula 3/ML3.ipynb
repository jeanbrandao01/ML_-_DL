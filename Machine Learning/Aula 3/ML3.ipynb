{
 "cells": [
  {
   "cell_type": "code",
   "execution_count": 1,
   "metadata": {},
   "outputs": [],
   "source": [
    "import pandas as pd\n",
    "import numpy as np"
   ]
  },
  {
   "cell_type": "code",
   "execution_count": 2,
   "metadata": {},
   "outputs": [],
   "source": [
    "df = pd.read_csv('admission.csv', sep = ';')"
   ]
  },
  {
   "cell_type": "code",
   "execution_count": 3,
   "metadata": {},
   "outputs": [],
   "source": [
    "X = df.iloc[:, :-1].values # Todos os valores menos a ultima coluna\n",
    "y = df.iloc[:,-1].values # Todos os valores a partir da ultima coluna"
   ]
  },
  {
   "cell_type": "code",
   "execution_count": 4,
   "metadata": {},
   "outputs": [],
   "source": [
    "from sklearn.impute import SimpleImputer"
   ]
  },
  {
   "cell_type": "code",
   "execution_count": 5,
   "metadata": {},
   "outputs": [],
   "source": [
    "imputer = SimpleImputer(missing_values= np.nan, strategy= 'median')\n",
    "imputer = imputer.fit_transform(X[:, 1:])"
   ]
  },
  {
   "cell_type": "code",
   "execution_count": 6,
   "metadata": {},
   "outputs": [],
   "source": [
    "from sklearn.preprocessing import LabelEncoder"
   ]
  },
  {
   "cell_type": "code",
   "execution_count": 7,
   "metadata": {},
   "outputs": [],
   "source": [
    "lb_X = LabelEncoder()"
   ]
  },
  {
   "cell_type": "code",
   "execution_count": 8,
   "metadata": {},
   "outputs": [],
   "source": [
    "X[:, 0] = lb_X.fit_transform(X[:, 0])"
   ]
  },
  {
   "cell_type": "code",
   "execution_count": 9,
   "metadata": {},
   "outputs": [],
   "source": [
    "X = X[:, 1:]\n",
    "D = pd.get_dummies(X[:, 0])\n",
    "X = np.insert(X, 0, D.values, axis = 1)"
   ]
  },
  {
   "cell_type": "code",
   "execution_count": 10,
   "metadata": {},
   "outputs": [],
   "source": [
    "from sklearn.model_selection import train_test_split"
   ]
  },
  {
   "cell_type": "code",
   "execution_count": 11,
   "metadata": {},
   "outputs": [],
   "source": [
    "X_train, X_test, y_train, y_test = train_test_split(X, y, test_size = 0.2, random_state= 45) # Divide o df em treino e teste"
   ]
  },
  {
   "cell_type": "code",
   "execution_count": 12,
   "metadata": {},
   "outputs": [],
   "source": [
    "from sklearn.preprocessing import StandardScaler"
   ]
  },
  {
   "cell_type": "code",
   "execution_count": 13,
   "metadata": {},
   "outputs": [],
   "source": [
    "ScaleX = StandardScaler()"
   ]
  },
  {
   "cell_type": "code",
   "execution_count": 14,
   "metadata": {},
   "outputs": [],
   "source": [
    "X_train = ScaleX.fit_transform(X_train)\n",
    "X_test = ScaleX.fit_transform(X_test)"
   ]
  },
  {
   "cell_type": "code",
   "execution_count": 16,
   "metadata": {},
   "outputs": [
    {
     "name": "stdout",
     "output_type": "stream",
     "text": [
      "[[-0.40824829 -0.40824829 -0.40824829 -0.40824829  0.          0.\n",
      "  -0.40824829  2.44948974 -0.40824829  0.2474826  -0.39419125  0.6882472\n",
      "   0.64951905  1.17873792  0.28525883  0.63245553]\n",
      " [-0.40824829  2.44948974 -0.40824829 -0.40824829  0.          0.\n",
      "  -0.40824829 -0.40824829 -0.40824829 -0.0412471  -0.02627942 -0.11470787\n",
      "  -0.36084392  0.69337525 -0.87810108  0.63245553]\n",
      " [ 2.44948974 -0.40824829 -0.40824829 -0.40824829  0.          0.\n",
      "  -0.40824829 -0.40824829 -0.40824829 -1.86986853 -1.31397083 -1.720618\n",
      "  -1.37120689 -1.73343811 -1.22537269 -1.58113883]\n",
      " [-0.40824829 -0.40824829 -0.40824829  2.44948974  0.          0.\n",
      "  -0.40824829 -0.40824829 -0.40824829  0.824942    1.07745608  1.49120227\n",
      "   1.15470054 -0.2773501   1.10134712  0.63245553]\n",
      " [-0.40824829 -0.40824829 -0.40824829 -0.40824829  0.          0.\n",
      "  -0.40824829 -0.40824829  2.44948974  1.49864463  1.62932383  0.6882472\n",
      "   1.15470054  1.17873792  1.63961812  0.63245553]\n",
      " [-0.40824829 -0.40824829 -0.40824829 -0.40824829  0.          0.\n",
      "   2.44948974 -0.40824829 -0.40824829 -0.71494973 -1.13001491 -0.91766294\n",
      "  -1.37120689 -0.2773501  -0.8607375  -1.58113883]\n",
      " [-0.40824829 -0.40824829  2.44948974 -0.40824829  0.          0.\n",
      "  -0.40824829 -0.40824829 -0.40824829  0.05499613  0.1576765  -0.11470787\n",
      "   0.14433757 -0.76271277 -0.06201279  0.63245553]]\n"
     ]
    }
   ],
   "source": [
    "print(X_train)"
   ]
  }
 ],
 "metadata": {
  "kernelspec": {
   "display_name": "Python 3",
   "language": "python",
   "name": "python3"
  },
  "language_info": {
   "codemirror_mode": {
    "name": "ipython",
    "version": 3
   },
   "file_extension": ".py",
   "mimetype": "text/x-python",
   "name": "python",
   "nbconvert_exporter": "python",
   "pygments_lexer": "ipython3",
   "version": "3.12.0"
  }
 },
 "nbformat": 4,
 "nbformat_minor": 2
}
